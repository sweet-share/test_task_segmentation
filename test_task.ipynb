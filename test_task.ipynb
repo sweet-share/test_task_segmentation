{
 "cells": [
  {
   "cell_type": "code",
   "execution_count": 308,
   "metadata": {
    "collapsed": true
   },
   "outputs": [],
   "source": [
    "import cv2\n",
    "import numpy as np\n",
    "import os"
   ]
  },
  {
   "cell_type": "code",
   "execution_count": 309,
   "outputs": [],
   "source": [
    "\"\"\"Function draws a line based on two points - upper pants corner and lower pants corner\"\"\"\n",
    "def build_line(s,e,h):\n",
    "    k = (s[0] - e[0]) / (s[1] - e[1])\n",
    "    b = e[0] - k*s[0]\n",
    "\n",
    "    return [round(h*k+b), h]"
   ],
   "metadata": {
    "collapsed": false
   }
  },
  {
   "cell_type": "code",
   "execution_count": 310,
   "outputs": [],
   "source": [
    "\"\"\"Function finds segment for pants/skirts. Sometimes segments are blue, sometimes are red\"\"\"\n",
    "def find_pants(seg):\n",
    "    # some pants are blue, some are read, need to check that\n",
    "    pants_red = cv2.inRange(seg, (0, 0, 190), (0, 0, 195))\n",
    "    pants_blue = cv2.inRange(seg, (120, 0, 60), (130, 0, 65))\n",
    "    _, counts_red = np.unique(pants_red, return_counts=True)\n",
    "    _, counts_blue = np.unique(pants_blue, return_counts=True)\n",
    "    try:\n",
    "        red = counts_red[1]\n",
    "    except IndexError:\n",
    "        red = 0\n",
    "    try:\n",
    "        blue = counts_blue[1]\n",
    "    except IndexError:\n",
    "        blue = 0\n",
    "\n",
    "    if red>=blue:\n",
    "        skr = pants_red\n",
    "    else:\n",
    "        skr = pants_blue\n",
    "\n",
    "    return skr"
   ],
   "metadata": {
    "collapsed": false
   }
  },
  {
   "cell_type": "code",
   "execution_count": 311,
   "outputs": [],
   "source": [
    "\"\"\"Function finds corners of segment with Harris algorithm\"\"\"\n",
    "def get_corners(img):\n",
    "    dst = cv2.cornerHarris(img, 2, 3, 0.04)\n",
    "    mask = np.zeros_like(img)\n",
    "    mask[dst>0.01*dst.max()] = 255\n",
    "    coordinates = np.argwhere(mask)\n",
    "\n",
    "    return coordinates"
   ],
   "metadata": {
    "collapsed": false
   }
  },
  {
   "cell_type": "code",
   "execution_count": 312,
   "outputs": [],
   "source": [
    "\"\"\"Function finds upper points of boots. If there are no boots, take lower point of legs\"\"\"\n",
    "def get_boot_corners(height, width, boot, leg):\n",
    "    is_boot=False\n",
    "    if np.mean(boot) == 0:\n",
    "        boot = leg\n",
    "        edge_point = np.array([0,0])\n",
    "    else:\n",
    "        edge_point = np.array([height,width])\n",
    "        is_boot = True\n",
    "\n",
    "    corners = get_corners(boot)\n",
    "    for point in corners:\n",
    "        corner = np.flip(point)\n",
    "        if is_boot:\n",
    "            if corner[0] < edge_point[1] and corner[1] < edge_point[0]:\n",
    "                edge_point = corner\n",
    "        else:\n",
    "            if corner[1] > edge_point[0]:\n",
    "                edge_point = corner\n",
    "    return edge_point"
   ],
   "metadata": {
    "collapsed": false
   }
  },
  {
   "cell_type": "code",
   "execution_count": 313,
   "outputs": [],
   "source": [
    "\"\"\"This function outputs segmentation mask. Here are also heuristics and crutches against corner cases\"\"\"\n",
    "def create_segment(directory, segmented_name):\n",
    "\n",
    "    # read images from folders\n",
    "    segmented = cv2.imread(rf\"{directory}\\human_parsing\\{segmented_name}.png\")\n",
    "    ord_im = cv2.imread(rf\"{directory}\\image\\{segmented_name}.jpg\")\n",
    "\n",
    "    # find height and width of image\n",
    "    height = int(segmented.shape[0])\n",
    "    width = int(segmented.shape[1])\n",
    "\n",
    "    # get all needed types of segments\n",
    "    pants = find_pants(segmented)\n",
    "    left_leg = cv2.inRange(segmented, (0, 60, 127), (0, 65, 131))\n",
    "    right_leg = cv2.inRange(segmented, (0, 60, 0), (0, 65, 0))\n",
    "    socks = cv2.inRange(segmented, (0, 0, 60), (0, 0, 64))\n",
    "    left_arm = cv2.inRange(segmented, (125, 125, 190), (131, 131, 195))\n",
    "    right_arm = cv2.inRange(segmented, (125, 125, 60), (131, 131, 64))\n",
    "    misc = cv2.inRange(255-segmented, (230, 230, 230), (240, 240, 240))\n",
    "    left_boot = cv2.inRange(segmented, (0, 190, 120), (0, 195, 130))\n",
    "    right_boot = cv2.inRange(segmented, (0, 190, 0), (0, 195, 0))\n",
    "\n",
    "\n",
    "    # find upper, left lower and righ lower corners of pants\n",
    "    pants_corners = get_corners(pants)\n",
    "    upper = np.array([height,width])\n",
    "    ld = np.array([height,0])\n",
    "    rd = np.array([0,0])\n",
    "    for pt in pants_corners:\n",
    "        corner = np.flip(pt)\n",
    "        if corner[0] < upper[0] and corner[1] < upper[1]:\n",
    "            upper = corner\n",
    "        elif corner[0] < ld[0] and corner[1] > ld[1]:\n",
    "            ld = corner\n",
    "        elif corner[0] > rd[0] and corner[1] > rd[1]:\n",
    "            rd = corner\n",
    "\n",
    "    # manually assign best upper corners\n",
    "    if abs(upper[0]-ld[0]) < abs(upper[0]-rd[0]):\n",
    "        ru = np.array([rd[0]-(abs(upper[0]-ld[0])), upper[1]])\n",
    "        lu = upper\n",
    "    else:\n",
    "        lu = np.array([ld[0]+(abs(upper[0]-rd[0])), upper[1]])\n",
    "        ru = upper\n",
    "\n",
    "    # fix lower corners if they are too close to upper\n",
    "    diff_ver = abs(ld[1]-rd[1])\n",
    "    if diff_ver > (rd[1] - ru[1])*0.4 or diff_ver > (ld[1] - lu[1])*0.4:\n",
    "        if ld[1]>rd[1]:\n",
    "            rd[1] = ld[1]\n",
    "        else:\n",
    "            ld[1] = rd[1]\n",
    "\n",
    "    # if upper corners are too close to each other then move them\n",
    "    diff_hor = abs(rd[0]-ld[0])\n",
    "    if abs(ru[0]-lu[0]) < diff_hor*0.3:\n",
    "        lu[0] -= diff_hor*0.3\n",
    "        ru[0] += diff_hor*0.3\n",
    "\n",
    "    # find corners of boots (top) or legs (bottom)\n",
    "    left_boot_top = get_boot_corners(height, width, left_boot, left_leg)\n",
    "    right_boot_top = get_boot_corners(height, width, right_boot, right_leg)\n",
    "\n",
    "    # if there are no legs and boots, draw a line limited by pants' lower corner\n",
    "    if np.mean(left_boot_top) == 0:\n",
    "        left_border = ld\n",
    "        left_boot_top = ld\n",
    "    else:\n",
    "        left_border = build_line(ld, lu, left_boot_top[1])\n",
    "    if np.mean(right_boot_top) == 0:\n",
    "        right_border = rd\n",
    "        right_boot_top = rd\n",
    "\n",
    "    # draw a line from lower corner to boots/legs\n",
    "    else:\n",
    "        right_border = build_line(ru, rd, right_boot_top[1])\n",
    "\n",
    "    # swap legs if they are crossed\n",
    "    if left_boot_top[0] > right_boot_top[0]:\n",
    "        left_boot_top, right_boot_top = right_boot_top, left_boot_top\n",
    "\n",
    "    # many enhancements for complicated cases\n",
    "    if left_border[0] > left_boot_top[0]:\n",
    "        left_boot_top[0]-=50\n",
    "        pts = np.array([ld, left_boot_top, right_boot_top, right_border, rd])\n",
    "    elif right_border[0] < right_boot_top[0]:\n",
    "        right_boot_top[0]+=50\n",
    "        pts = np.array([ld, left_border, left_boot_top, right_boot_top, rd])\n",
    "    else:\n",
    "        if left_border[0] < 0:\n",
    "            left_border[0] = round(abs(left_border[0]*0.5))\n",
    "        if right_border[0] > width:\n",
    "            right_border[0] -= round(right_border[0]*0.3)\n",
    "        diff_left = left_boot_top[0] - left_border[0]\n",
    "        diff_right = right_border[0] - right_boot_top[0]\n",
    "        if diff_left>diff_right*1.7:\n",
    "            left_border[0] += diff_right\n",
    "        elif diff_left*1.7<diff_right:\n",
    "            right_border[0] -= diff_left\n",
    "        pts = np.array([ld, left_border, left_boot_top, right_boot_top, right_border, rd])\n",
    "\n",
    "    # create mask\n",
    "    poly_mask = cv2.fillPoly(np.zeros_like(segmented), [pts], (128,128,128))\n",
    "    mask = cv2.inRange(poly_mask, (128, 128, 128), (128, 128, 128))+right_leg+left_leg+pants+socks-left_arm-right_arm-misc-left_boot-right_boot\n",
    "    mask = cv2.inRange(mask, 250, 255)\n",
    "\n",
    "    masked_ord_im = ord_im.copy()\n",
    "    masked_ord_im[mask>0]=(128,128,128)\n",
    "\n",
    "    return masked_ord_im"
   ],
   "metadata": {
    "collapsed": false
   }
  },
  {
   "cell_type": "code",
   "execution_count": 314,
   "outputs": [
    {
     "name": "stdout",
     "output_type": "stream",
     "text": [
      "CPU times: total: 47.2 s\n",
      "Wall time: 47.8 s\n"
     ]
    }
   ],
   "source": [
    "%%time\n",
    "dataset_dir = f'{os.getcwd()}\\dataset'\n",
    "\n",
    "for image_name in os.listdir(f'{dataset_dir}\\human_parsing'):\n",
    "\n",
    "    image_name = image_name[:-4]\n",
    "    cv2.imwrite(rf'{dataset_dir}\\masked_images\\{image_name}_masked.png', create_segment(dataset_dir, image_name))"
   ],
   "metadata": {
    "collapsed": false
   }
  }
 ],
 "metadata": {
  "kernelspec": {
   "display_name": "Python 3",
   "language": "python",
   "name": "python3"
  },
  "language_info": {
   "codemirror_mode": {
    "name": "ipython",
    "version": 2
   },
   "file_extension": ".py",
   "mimetype": "text/x-python",
   "name": "python",
   "nbconvert_exporter": "python",
   "pygments_lexer": "ipython2",
   "version": "2.7.6"
  }
 },
 "nbformat": 4,
 "nbformat_minor": 0
}
